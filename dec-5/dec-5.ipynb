{
 "cells": [
  {
   "cell_type": "markdown",
   "id": "83265a6b-2cc9-4199-958f-1d2ad083081a",
   "metadata": {},
   "source": [
    "# Dec 5th"
   ]
  },
  {
   "cell_type": "code",
   "execution_count": 90,
   "id": "66a59030-9306-44ec-96c9-b09c86fb75fa",
   "metadata": {},
   "outputs": [],
   "source": [
    "import re"
   ]
  },
  {
   "cell_type": "markdown",
   "id": "94c8d886-ab53-414c-9a8a-f9ca0e8f66d5",
   "metadata": {},
   "source": [
    "## Part 1"
   ]
  },
  {
   "cell_type": "code",
   "execution_count": 188,
   "id": "6ac17090-16d3-4601-886f-7103211ab02d",
   "metadata": {},
   "outputs": [],
   "source": [
    "def read_crates(file):\n",
    "    # read lines containing crates\n",
    "    lines = []\n",
    "    for line in file:\n",
    "        line = line[:-1]\n",
    "        if len(line) == 0:\n",
    "            break;\n",
    "        lines.append(line)\n",
    "    # all crate lines are the same legth\n",
    "    line_len = len(lines[0])\n",
    "    # each crate stack is 4 chars, except the rigthtmost is 3\n",
    "    n_stacks = (line_len + 1) >> 2\n",
    "    stacks = [[] for i in range(n_stacks)]\n",
    "    # parse crates from bottom to top, ignore last (numbers) row\n",
    "    for line in lines[-2::-1]:\n",
    "        for i in range(n_stacks):\n",
    "            crate = line[i*4+1]\n",
    "            if crate.isalpha():\n",
    "                stacks[i].append(crate)\n",
    "    return stacks"
   ]
  },
  {
   "cell_type": "code",
   "execution_count": 97,
   "id": "0d007e08-238d-4421-aadf-d297d2da2c6e",
   "metadata": {},
   "outputs": [],
   "source": [
    "move_pattern = re.compile(\"move ([0-9]+) from ([0-9]+) to ([0-9]+)\")"
   ]
  },
  {
   "cell_type": "markdown",
   "id": "2544b1ea-1f9e-4ebf-be9d-a7e3946bf0d2",
   "metadata": {},
   "source": [
    "NOTE: It would be nice to have an iterable/iterator over moves, initialized from the file"
   ]
  },
  {
   "cell_type": "code",
   "execution_count": 168,
   "id": "ff7b05c1-7826-4e76-8f78-f3ddb193ff59",
   "metadata": {},
   "outputs": [],
   "source": [
    "def parse_move(line):\n",
    "    match = move_pattern.match(line)\n",
    "    return [int(x) for x in match.group(1,2,3)]"
   ]
  },
  {
   "cell_type": "code",
   "execution_count": 175,
   "id": "843a0256-896a-4e10-b58f-8d084811721d",
   "metadata": {},
   "outputs": [],
   "source": [
    "def do_move(stacks, move):\n",
    "    n = move[0]\n",
    "    src = move[1] - 1\n",
    "    dest = move[2] - 1\n",
    "    stacks[dest] = stacks[dest] + stacks[src][:-(n+1):-1]\n",
    "    stacks[src] = stacks[src][:-n]"
   ]
  },
  {
   "cell_type": "markdown",
   "id": "831a99be-1af9-4497-aefa-5996f695c57e",
   "metadata": {},
   "source": [
    "Example"
   ]
  },
  {
   "cell_type": "code",
   "execution_count": 193,
   "id": "df2b486a-1913-418c-a043-1e21df93295c",
   "metadata": {},
   "outputs": [
    {
     "data": {
      "text/plain": [
       "'CMZ'"
      ]
     },
     "execution_count": 193,
     "metadata": {},
     "output_type": "execute_result"
    }
   ],
   "source": [
    "with open(\"example.txt\", \"r\") as file:\n",
    "    stacks = read_crates(file)\n",
    "    for line in file:\n",
    "        do_move(stacks, parse_move(line))\n",
    "# resulting stacks cannot be empty\n",
    "assert min([len(stack) for stack in stacks]) > 0\n",
    "# crate on top of each stack\n",
    "\"\".join([stack[-1] for stack in stacks])"
   ]
  },
  {
   "cell_type": "markdown",
   "id": "00f8783f-576c-48e6-bce1-ae1ee7808a13",
   "metadata": {},
   "source": [
    "Input data"
   ]
  },
  {
   "cell_type": "code",
   "execution_count": 194,
   "id": "a21cb7e4-84f3-4705-a16f-392b36085fef",
   "metadata": {},
   "outputs": [
    {
     "name": "stdout",
     "output_type": "stream",
     "text": [
      "[['S', 'M', 'R', 'N', 'W', 'J', 'V', 'T'], ['B', 'W', 'D', 'J', 'Q', 'P', 'C', 'V'], ['B', 'J', 'F', 'H', 'D', 'R', 'P'], ['F', 'R', 'P', 'B', 'M', 'N', 'D'], ['H', 'V', 'R', 'P', 'T', 'B'], ['C', 'B', 'P', 'T'], ['B', 'J', 'R', 'P', 'L'], ['N', 'C', 'S', 'L', 'T', 'Z', 'B', 'W'], ['L', 'S', 'G']]\n"
     ]
    },
    {
     "data": {
      "text/plain": [
       "'LJSVLTWQM'"
      ]
     },
     "execution_count": 194,
     "metadata": {},
     "output_type": "execute_result"
    }
   ],
   "source": [
    "with open(\"input.txt\", \"r\") as file:\n",
    "    stacks = read_crates(file)\n",
    "    print(stacks)\n",
    "    for line in file:\n",
    "        do_move(stacks, parse_move(line))\n",
    "# resulting stacks cannot be empty\n",
    "assert min([len(stack) for stack in stacks]) > 0\n",
    "# crate on top of each stack\n",
    "\"\".join([stack[-1] for stack in stacks])"
   ]
  },
  {
   "cell_type": "markdown",
   "id": "58a968f8-9372-4907-b967-1755f6e8edd2",
   "metadata": {},
   "source": [
    "## Part 2"
   ]
  },
  {
   "cell_type": "markdown",
   "id": "afff5d4c-4d6c-4a44-81f6-92176e5d808e",
   "metadata": {},
   "source": [
    "The only difference with the \"Cratemover 9001\" is that multiple boxes are now moved without reversing order"
   ]
  },
  {
   "cell_type": "code",
   "execution_count": 196,
   "id": "90a9789d-258f-4252-9712-f14b7802f71d",
   "metadata": {},
   "outputs": [],
   "source": [
    "def do_move_9001(stacks, move):\n",
    "    n = move[0]\n",
    "    src = move[1] - 1\n",
    "    dest = move[2] - 1\n",
    "    stacks[dest] = stacks[dest] + stacks[src][-n:]\n",
    "    stacks[src] = stacks[src][:-n]"
   ]
  },
  {
   "cell_type": "code",
   "execution_count": null,
   "id": "c92c4dfd-5cd9-4588-aebe-5d261ec590f1",
   "metadata": {},
   "outputs": [],
   "source": []
  },
  {
   "cell_type": "markdown",
   "id": "b3125ec9-cff1-4a98-aab8-bc59e08ae633",
   "metadata": {},
   "source": [
    "Example"
   ]
  },
  {
   "cell_type": "code",
   "execution_count": 193,
   "id": "026c9b3a-5939-47bc-af91-806cd3556c6b",
   "metadata": {},
   "outputs": [
    {
     "data": {
      "text/plain": [
       "'CMZ'"
      ]
     },
     "execution_count": 193,
     "metadata": {},
     "output_type": "execute_result"
    }
   ],
   "source": [
    "with open(\"example.txt\", \"r\") as file:\n",
    "    stacks = read_crates(file)\n",
    "    for line in file:\n",
    "        do_move(stacks, parse_move(line))\n",
    "# resulting stacks cannot be empty\n",
    "assert min([len(stack) for stack in stacks]) > 0\n",
    "# crate on top of each stack\n",
    "\"\".join([stack[-1] for stack in stacks])"
   ]
  },
  {
   "cell_type": "markdown",
   "id": "37d4e165-e1fb-41be-b0d6-7dea1f64ba4b",
   "metadata": {},
   "source": [
    "Input data"
   ]
  },
  {
   "cell_type": "code",
   "execution_count": 194,
   "id": "1c86fa12-1622-4da1-bf03-57929ca59520",
   "metadata": {},
   "outputs": [
    {
     "name": "stdout",
     "output_type": "stream",
     "text": [
      "[['S', 'M', 'R', 'N', 'W', 'J', 'V', 'T'], ['B', 'W', 'D', 'J', 'Q', 'P', 'C', 'V'], ['B', 'J', 'F', 'H', 'D', 'R', 'P'], ['F', 'R', 'P', 'B', 'M', 'N', 'D'], ['H', 'V', 'R', 'P', 'T', 'B'], ['C', 'B', 'P', 'T'], ['B', 'J', 'R', 'P', 'L'], ['N', 'C', 'S', 'L', 'T', 'Z', 'B', 'W'], ['L', 'S', 'G']]\n"
     ]
    },
    {
     "data": {
      "text/plain": [
       "'LJSVLTWQM'"
      ]
     },
     "execution_count": 194,
     "metadata": {},
     "output_type": "execute_result"
    }
   ],
   "source": [
    "with open(\"input.txt\", \"r\") as file:\n",
    "    stacks = read_crates(file)\n",
    "    print(stacks)\n",
    "    for line in file:\n",
    "        do_move(stacks, parse_move(line))\n",
    "# resulting stacks cannot be empty\n",
    "assert min([len(stack) for stack in stacks]) > 0\n",
    "# crate on top of each stack\n",
    "\"\".join([stack[-1] for stack in stacks])"
   ]
  }
 ],
 "metadata": {
  "kernelspec": {
   "display_name": "Python 3 (ipykernel)",
   "language": "python",
   "name": "python3"
  },
  "language_info": {
   "codemirror_mode": {
    "name": "ipython",
    "version": 3
   },
   "file_extension": ".py",
   "mimetype": "text/x-python",
   "name": "python",
   "nbconvert_exporter": "python",
   "pygments_lexer": "ipython3",
   "version": "3.9.1"
  }
 },
 "nbformat": 4,
 "nbformat_minor": 5
}
