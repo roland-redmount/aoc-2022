{
 "cells": [
  {
   "cell_type": "markdown",
   "id": "27b4ceb6-b375-4bac-b132-f7ad7422e1de",
   "metadata": {},
   "source": [
    "# Dec 1st"
   ]
  },
  {
   "cell_type": "markdown",
   "id": "55c966ce-787a-4d3a-8bac-3e2bd6ed4177",
   "metadata": {},
   "source": [
    "This solution runs in O(n) time with a single iteration through the list, and constant space"
   ]
  },
  {
   "cell_type": "code",
   "execution_count": 16,
   "id": "25d1289d-f8e4-4da3-8e59-6057848b6afa",
   "metadata": {},
   "outputs": [],
   "source": [
    "def find_most_calories(file_name):\n",
    "    most_calories = 0\n",
    "    with open(file_name, \"r\") as file:\n",
    "        elf_calories = 0\n",
    "        for line in file:\n",
    "            line = line.strip()\n",
    "            if len(line) == 0:\n",
    "                # end of calorie list for this elf\n",
    "                most_calories = max(most_calories, elf_calories)\n",
    "                elf_calories = 0\n",
    "            else:\n",
    "                elf_calories = elf_calories + int(line)    \n",
    "        # in case there is no final empty line\n",
    "        if elf_calories > 0:\n",
    "            most_calories = max(most_calories, elf_calories)\n",
    "    return most_calories"
   ]
  },
  {
   "cell_type": "code",
   "execution_count": 17,
   "id": "fb16c670-2594-46a1-9092-de516172592b",
   "metadata": {},
   "outputs": [
    {
     "data": {
      "text/plain": [
       "100000"
      ]
     },
     "execution_count": 17,
     "metadata": {},
     "output_type": "execute_result"
    }
   ],
   "source": [
    "find_most_calories(\"example.txt\")"
   ]
  },
  {
   "cell_type": "code",
   "execution_count": 18,
   "id": "06a72140-e26e-4873-8aa9-fbe593de99ea",
   "metadata": {},
   "outputs": [
    {
     "data": {
      "text/plain": [
       "69281"
      ]
     },
     "execution_count": 18,
     "metadata": {},
     "output_type": "execute_result"
    }
   ],
   "source": [
    "find_most_calories(\"input.txt\")"
   ]
  }
 ],
 "metadata": {
  "kernelspec": {
   "display_name": "Python 3 (ipykernel)",
   "language": "python",
   "name": "python3"
  },
  "language_info": {
   "codemirror_mode": {
    "name": "ipython",
    "version": 3
   },
   "file_extension": ".py",
   "mimetype": "text/x-python",
   "name": "python",
   "nbconvert_exporter": "python",
   "pygments_lexer": "ipython3",
   "version": "3.9.1"
  }
 },
 "nbformat": 4,
 "nbformat_minor": 5
}
