{
 "cells": [
  {
   "cell_type": "markdown",
   "id": "18ae60b1-e0f0-4d4f-b0a1-0018d5d798ae",
   "metadata": {},
   "source": [
    "# Dec 3rd"
   ]
  },
  {
   "cell_type": "markdown",
   "id": "74782df4-7bc1-4f7b-9e3b-06d6d447965c",
   "metadata": {},
   "source": [
    "## Part 1"
   ]
  },
  {
   "cell_type": "code",
   "execution_count": 38,
   "id": "2ed795c1-5b64-4ddf-a27e-3960eddfe85e",
   "metadata": {},
   "outputs": [],
   "source": [
    "def item_priority(item):\n",
    "    if item.islower():\n",
    "        return ord(item) - ord(\"a\") + 1\n",
    "    else:\n",
    "        return ord(item) - ord(\"A\") + 27"
   ]
  },
  {
   "cell_type": "code",
   "execution_count": 44,
   "id": "cec0602d-16c4-449f-8ba1-c3b3fd28f863",
   "metadata": {},
   "outputs": [],
   "source": [
    "def parse_line(line):\n",
    "    prio = [item_priority(c) for c in line.strip()]\n",
    "    n = len(line) >> 1\n",
    "    return [prio[0:n], prio[n:2*n]]"
   ]
  },
  {
   "cell_type": "code",
   "execution_count": 23,
   "id": "6fb87646-cb5f-42e4-b3b4-0ab413d74efe",
   "metadata": {},
   "outputs": [],
   "source": [
    "def read_rucksacks(file_name):\n",
    "    with open(file_name, \"r\") as file:\n",
    "        return [parse_line(line) for line in file]            "
   ]
  },
  {
   "cell_type": "code",
   "execution_count": 84,
   "id": "68d7072d-85e6-44db-9cb6-993b3578c17d",
   "metadata": {},
   "outputs": [],
   "source": [
    "def find_common(items1, items2):\n",
    "    # use a python set for faster lookup\n",
    "    common = set(items1).intersection(set(items2))\n",
    "    assert len(common) == 1\n",
    "    return common.pop()"
   ]
  },
  {
   "cell_type": "markdown",
   "id": "5a925713-87f6-4e7f-b3b7-cefc2b6e8133",
   "metadata": {},
   "source": [
    "Example"
   ]
  },
  {
   "cell_type": "code",
   "execution_count": 56,
   "id": "872175ff-857e-4e68-a76b-4b9c91c9ec26",
   "metadata": {
    "tags": []
   },
   "outputs": [],
   "source": [
    "rucksacks = read_rucksacks(\"example.txt\")"
   ]
  },
  {
   "cell_type": "code",
   "execution_count": 61,
   "id": "fa15013d-fac6-4f88-9f37-cefd939473d5",
   "metadata": {},
   "outputs": [],
   "source": [
    "common_items = [find_common(*pair) for pair in rucksacks]"
   ]
  },
  {
   "cell_type": "code",
   "execution_count": 62,
   "id": "93fcbff4-1f3f-40be-b558-a35504bb82e4",
   "metadata": {},
   "outputs": [
    {
     "data": {
      "text/plain": [
       "[16, 38, 42, 22, 20, 19]"
      ]
     },
     "execution_count": 62,
     "metadata": {},
     "output_type": "execute_result"
    }
   ],
   "source": [
    "common_items"
   ]
  },
  {
   "cell_type": "code",
   "execution_count": 63,
   "id": "516185d6-48de-4f0e-abd5-4815ca785ce4",
   "metadata": {},
   "outputs": [
    {
     "data": {
      "text/plain": [
       "157"
      ]
     },
     "execution_count": 63,
     "metadata": {},
     "output_type": "execute_result"
    }
   ],
   "source": [
    "sum(common_items)"
   ]
  },
  {
   "cell_type": "markdown",
   "id": "76825126-1bd2-409c-ad90-df469bed9130",
   "metadata": {},
   "source": [
    "Input data"
   ]
  },
  {
   "cell_type": "code",
   "execution_count": 64,
   "id": "2b408707-b7d3-4030-ae62-3c22cc12cf2d",
   "metadata": {
    "tags": []
   },
   "outputs": [
    {
     "data": {
      "text/plain": [
       "300"
      ]
     },
     "execution_count": 64,
     "metadata": {},
     "output_type": "execute_result"
    }
   ],
   "source": [
    "rucksacks = read_rucksacks(\"input.txt\")\n",
    "len(rucksacks)"
   ]
  },
  {
   "cell_type": "code",
   "execution_count": 65,
   "id": "899a76cf-c6e8-402a-8836-215e091f59e3",
   "metadata": {},
   "outputs": [],
   "source": [
    "common_items = [find_common(*pair) for pair in rucksacks]"
   ]
  },
  {
   "cell_type": "code",
   "execution_count": 67,
   "id": "f0fe0d13-195a-432c-9453-2398e4d80921",
   "metadata": {},
   "outputs": [
    {
     "data": {
      "text/plain": [
       "7826"
      ]
     },
     "execution_count": 67,
     "metadata": {},
     "output_type": "execute_result"
    }
   ],
   "source": [
    "sum(common_items)"
   ]
  },
  {
   "cell_type": "markdown",
   "id": "28cc6c2f-fed2-4a08-8bec-db203fe87614",
   "metadata": {},
   "source": [
    "## Part 2"
   ]
  },
  {
   "cell_type": "markdown",
   "id": "970d716b-1440-4bd5-a43e-778bb2d4c365",
   "metadata": {},
   "source": [
    "Now we need to find the item in common between each group of three elves."
   ]
  },
  {
   "cell_type": "code",
   "execution_count": 75,
   "id": "42988796-7d4b-4ba1-830f-c00305ba29e6",
   "metadata": {},
   "outputs": [],
   "source": [
    "def rucksack_set(rucksack):\n",
    "    return set([item for part in rucksack for item in part])"
   ]
  },
  {
   "cell_type": "markdown",
   "id": "9a9b7220-9255-4833-b99d-1e8b2c51a1de",
   "metadata": {},
   "source": [
    "Find the common items in k rucksacks, any k >= 1, assuming there is always one common item"
   ]
  },
  {
   "cell_type": "code",
   "execution_count": 90,
   "id": "cd5d0758-198e-4af3-8fb5-7b25c7880bfe",
   "metadata": {},
   "outputs": [],
   "source": [
    "def find_common_all(rucksacks):\n",
    "    common = rucksack_set(rucksacks[0])\n",
    "    for r in rucksacks[1:]:\n",
    "        common = common.intersection(rucksack_set(r))\n",
    "    assert len(common) == 1\n",
    "    return common.pop()"
   ]
  },
  {
   "cell_type": "markdown",
   "id": "d29eb159-67f5-4f15-857b-77e7f9df8ea4",
   "metadata": {
    "tags": []
   },
   "source": [
    "Example"
   ]
  },
  {
   "cell_type": "code",
   "execution_count": 92,
   "id": "6d6c5491-443b-4f44-ad5c-6e51940057ef",
   "metadata": {
    "tags": []
   },
   "outputs": [],
   "source": [
    "rucksacks = read_rucksacks(\"example.txt\")"
   ]
  },
  {
   "cell_type": "code",
   "execution_count": 96,
   "id": "7b1358a1-46c2-40de-a082-a440a91025fc",
   "metadata": {},
   "outputs": [],
   "source": [
    "badges = [find_common_all(rucksacks[i:i+3])\n",
    "          for i in range(0, len(rucksacks), 3)]"
   ]
  },
  {
   "cell_type": "code",
   "execution_count": 97,
   "id": "2c642d97-113f-4030-8dfc-8a2a6ccf7ff1",
   "metadata": {},
   "outputs": [
    {
     "data": {
      "text/plain": [
       "[18, 52]"
      ]
     },
     "execution_count": 97,
     "metadata": {},
     "output_type": "execute_result"
    }
   ],
   "source": [
    "badges"
   ]
  },
  {
   "cell_type": "code",
   "execution_count": 98,
   "id": "26ce1fd9-2f27-4dbd-88f2-309d94b9e629",
   "metadata": {},
   "outputs": [
    {
     "data": {
      "text/plain": [
       "70"
      ]
     },
     "execution_count": 98,
     "metadata": {},
     "output_type": "execute_result"
    }
   ],
   "source": [
    "sum(badges)"
   ]
  },
  {
   "cell_type": "markdown",
   "id": "2763b8bb-6ab1-457e-b83a-be11b821fa19",
   "metadata": {
    "tags": []
   },
   "source": [
    "Input data"
   ]
  },
  {
   "cell_type": "code",
   "execution_count": 99,
   "id": "729836e5-b692-4ba7-b74b-f8741daecfee",
   "metadata": {
    "tags": []
   },
   "outputs": [],
   "source": [
    "rucksacks = read_rucksacks(\"input.txt\")"
   ]
  },
  {
   "cell_type": "code",
   "execution_count": 100,
   "id": "672b9ca6-7f3b-4421-843c-09181a310a1f",
   "metadata": {},
   "outputs": [],
   "source": [
    "badges = [find_common_all(rucksacks[i:i+3])\n",
    "          for i in range(0, len(rucksacks), 3)]"
   ]
  },
  {
   "cell_type": "code",
   "execution_count": 102,
   "id": "e2824bf8-3372-4f5b-9516-31dedc25e39e",
   "metadata": {},
   "outputs": [
    {
     "data": {
      "text/plain": [
       "100"
      ]
     },
     "execution_count": 102,
     "metadata": {},
     "output_type": "execute_result"
    }
   ],
   "source": [
    "len(badges)"
   ]
  },
  {
   "cell_type": "code",
   "execution_count": 103,
   "id": "384eec01-0284-482f-ab0f-f6bc9f0d0034",
   "metadata": {},
   "outputs": [
    {
     "data": {
      "text/plain": [
       "2577"
      ]
     },
     "execution_count": 103,
     "metadata": {},
     "output_type": "execute_result"
    }
   ],
   "source": [
    "sum(badges)"
   ]
  }
 ],
 "metadata": {
  "kernelspec": {
   "display_name": "Python 3 (ipykernel)",
   "language": "python",
   "name": "python3"
  },
  "language_info": {
   "codemirror_mode": {
    "name": "ipython",
    "version": 3
   },
   "file_extension": ".py",
   "mimetype": "text/x-python",
   "name": "python",
   "nbconvert_exporter": "python",
   "pygments_lexer": "ipython3",
   "version": "3.9.1"
  }
 },
 "nbformat": 4,
 "nbformat_minor": 5
}
