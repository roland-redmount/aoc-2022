{
 "cells": [
  {
   "cell_type": "markdown",
   "id": "c08bf3cc-b83c-43b4-8c14-683476437d01",
   "metadata": {},
   "source": [
    "# Dec 4th"
   ]
  },
  {
   "cell_type": "code",
   "execution_count": 1,
   "id": "88380c1a-9f03-4c90-9d49-b06d6973591a",
   "metadata": {},
   "outputs": [],
   "source": [
    "import csv"
   ]
  },
  {
   "cell_type": "markdown",
   "id": "7388a2b5-7d2e-4d41-ac70-4b17344f6614",
   "metadata": {},
   "source": [
    "## Part 1"
   ]
  },
  {
   "cell_type": "code",
   "execution_count": 5,
   "id": "45c97d79-2803-4a4f-929a-7edd62495323",
   "metadata": {},
   "outputs": [],
   "source": [
    "def parse_pair(pair_str):\n",
    "    return [int(s) for s in pair_str.split(sep = '-')]"
   ]
  },
  {
   "cell_type": "code",
   "execution_count": 6,
   "id": "ebc3a9b2-e25a-4110-afd4-427b1114c625",
   "metadata": {},
   "outputs": [],
   "source": [
    "def read_pairs(file_name):\n",
    "    with open(file_name, \"r\") as file:\n",
    "        reader = csv.reader(file)\n",
    "        return [[parse_pair(s) for s in row]\n",
    "                for row in reader]                "
   ]
  },
  {
   "cell_type": "markdown",
   "id": "aaf87915-3915-4b78-8f6f-39c7d709dd15",
   "metadata": {},
   "source": [
    "Check if a range 1 contains range 2. (There is the built-in x in range(a,b) for this but we're doing it from scratch here)"
   ]
  },
  {
   "cell_type": "code",
   "execution_count": 2,
   "id": "3ab86f37-28ec-4899-a64a-c87b36e9efdc",
   "metadata": {},
   "outputs": [],
   "source": [
    "def range_contains(range_1, range_2):\n",
    "    return range_1[0] <= range_2[0] and range_1[1] >= range_2[1]"
   ]
  },
  {
   "cell_type": "markdown",
   "id": "7ee15e32-6a0b-4574-9b16-4fdf822468bc",
   "metadata": {},
   "source": [
    "Check if either range (interval) contains the other"
   ]
  },
  {
   "cell_type": "code",
   "execution_count": 3,
   "id": "c657e6ed-d46c-4433-8ca5-200b4a1d1184",
   "metadata": {},
   "outputs": [],
   "source": [
    "def range_redundant(range_1, range_2):\n",
    "    return (range_contains(range_1, range_2) or\n",
    "            range_contains(range_2, range_1))"
   ]
  },
  {
   "cell_type": "markdown",
   "id": "90acd47c-7c96-4a42-a1a3-dcc5eb898d6f",
   "metadata": {},
   "source": [
    "Example"
   ]
  },
  {
   "cell_type": "code",
   "execution_count": 7,
   "id": "86e56231-f9a3-48b6-bc97-611b17237e35",
   "metadata": {},
   "outputs": [],
   "source": [
    "pairs = read_pairs(\"example.txt\")"
   ]
  },
  {
   "cell_type": "code",
   "execution_count": 8,
   "id": "617d5cc9-d82c-4078-92f8-89c060761ba1",
   "metadata": {},
   "outputs": [
    {
     "data": {
      "text/plain": [
       "[[[2, 4], [6, 8]],\n",
       " [[2, 3], [4, 5]],\n",
       " [[5, 7], [7, 9]],\n",
       " [[2, 8], [3, 7]],\n",
       " [[6, 6], [4, 6]],\n",
       " [[2, 6], [4, 8]]]"
      ]
     },
     "execution_count": 8,
     "metadata": {},
     "output_type": "execute_result"
    }
   ],
   "source": [
    "pairs"
   ]
  },
  {
   "cell_type": "code",
   "execution_count": 9,
   "id": "7faac9d5-ae09-46b2-8ac1-c5a955cf9848",
   "metadata": {},
   "outputs": [
    {
     "data": {
      "text/plain": [
       "[False, False, False, True, True, False]"
      ]
     },
     "execution_count": 9,
     "metadata": {},
     "output_type": "execute_result"
    }
   ],
   "source": [
    "[range_redundant(pair[0], pair[1]) for pair in pairs]"
   ]
  },
  {
   "cell_type": "markdown",
   "id": "f50756a1-16f1-4adb-98f6-31997de44756",
   "metadata": {},
   "source": [
    "Input data"
   ]
  },
  {
   "cell_type": "code",
   "execution_count": 10,
   "id": "574249c9-b6c1-4f3f-aa98-1fb9fcd9396c",
   "metadata": {},
   "outputs": [],
   "source": [
    "pairs = read_pairs(\"input.txt\")"
   ]
  },
  {
   "cell_type": "code",
   "execution_count": 11,
   "id": "081eb370-80c7-45d6-88be-fa60f952024f",
   "metadata": {},
   "outputs": [
    {
     "data": {
      "text/plain": [
       "1000"
      ]
     },
     "execution_count": 11,
     "metadata": {},
     "output_type": "execute_result"
    }
   ],
   "source": [
    "len(pairs)"
   ]
  },
  {
   "cell_type": "code",
   "execution_count": 12,
   "id": "e303cf23-33fe-4c0b-bcb9-09a6a6ac6470",
   "metadata": {},
   "outputs": [],
   "source": [
    "redundant = [range_redundant(pair[0], pair[1]) for pair in pairs]"
   ]
  },
  {
   "cell_type": "code",
   "execution_count": 13,
   "id": "e8fecdd9-c343-46bb-941b-dec0b245f88a",
   "metadata": {},
   "outputs": [
    {
     "data": {
      "text/plain": [
       "456"
      ]
     },
     "execution_count": 13,
     "metadata": {},
     "output_type": "execute_result"
    }
   ],
   "source": [
    "sum(redundant)"
   ]
  },
  {
   "cell_type": "markdown",
   "id": "9d7002c5-a02d-4f35-8c6e-7457c566d61c",
   "metadata": {},
   "source": [
    "## Part 2"
   ]
  },
  {
   "cell_type": "code",
   "execution_count": 14,
   "id": "daf6478a-e21e-493a-9f9e-421462a61bf9",
   "metadata": {},
   "outputs": [],
   "source": [
    "def in_range(my_range, x):\n",
    "    return my_range[0] <= x <= my_range[1]"
   ]
  },
  {
   "cell_type": "code",
   "execution_count": 15,
   "id": "535635eb-31ce-4711-bd46-cabd21513b0a",
   "metadata": {},
   "outputs": [],
   "source": [
    "def range_overlap(range_1, range_2):\n",
    "   return (in_range(range_1, range_2[0]) or\n",
    "           in_range(range_2, range_1[0]))"
   ]
  },
  {
   "cell_type": "markdown",
   "id": "1b5102a2-c92b-4a58-b947-875025424ebc",
   "metadata": {},
   "source": [
    "Example"
   ]
  },
  {
   "cell_type": "code",
   "execution_count": 16,
   "id": "af9c41ca-4f9d-47d7-b421-2df2c4eadd78",
   "metadata": {},
   "outputs": [],
   "source": [
    "pairs = read_pairs(\"example.txt\")"
   ]
  },
  {
   "cell_type": "code",
   "execution_count": 17,
   "id": "ed31f4ca-3ee5-4586-adaa-cea7abcf895e",
   "metadata": {},
   "outputs": [
    {
     "data": {
      "text/plain": [
       "[False, False, True, True, True, True]"
      ]
     },
     "execution_count": 17,
     "metadata": {},
     "output_type": "execute_result"
    }
   ],
   "source": [
    "[range_overlap(pair[0], pair[1]) for pair in pairs]"
   ]
  },
  {
   "cell_type": "markdown",
   "id": "872f24a8-5e4f-449f-98ec-74f7bab7c05c",
   "metadata": {},
   "source": [
    "Input data"
   ]
  },
  {
   "cell_type": "code",
   "execution_count": 18,
   "id": "3a3a582f-6b7e-41a4-a927-387a6545cdf0",
   "metadata": {},
   "outputs": [],
   "source": [
    "pairs = read_pairs(\"input.txt\")"
   ]
  },
  {
   "cell_type": "code",
   "execution_count": 19,
   "id": "15c090f4-7cb3-44bb-89de-962b6fdbe8b0",
   "metadata": {},
   "outputs": [],
   "source": [
    "overlaps = [range_overlap(pair[0], pair[1]) for pair in pairs]"
   ]
  },
  {
   "cell_type": "code",
   "execution_count": 20,
   "id": "a11e04e4-2862-4522-a158-9936bea4c968",
   "metadata": {},
   "outputs": [
    {
     "data": {
      "text/plain": [
       "808"
      ]
     },
     "execution_count": 20,
     "metadata": {},
     "output_type": "execute_result"
    }
   ],
   "source": [
    "sum(overlaps)"
   ]
  }
 ],
 "metadata": {
  "kernelspec": {
   "display_name": "Python 3 (ipykernel)",
   "language": "python",
   "name": "python3"
  },
  "language_info": {
   "codemirror_mode": {
    "name": "ipython",
    "version": 3
   },
   "file_extension": ".py",
   "mimetype": "text/x-python",
   "name": "python",
   "nbconvert_exporter": "python",
   "pygments_lexer": "ipython3",
   "version": "3.9.1"
  }
 },
 "nbformat": 4,
 "nbformat_minor": 5
}
