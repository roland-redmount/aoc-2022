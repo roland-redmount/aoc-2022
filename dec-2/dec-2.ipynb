{
 "cells": [
  {
   "cell_type": "markdown",
   "id": "cd1688fc-7239-418f-bd9e-c36782c2c40c",
   "metadata": {},
   "source": [
    "# Dec 2nd"
   ]
  },
  {
   "cell_type": "code",
   "execution_count": 17,
   "id": "e854e1dc-02d9-4006-bfd5-028c9c475088",
   "metadata": {},
   "outputs": [],
   "source": [
    "import csv"
   ]
  },
  {
   "cell_type": "markdown",
   "id": "bb02f48d-acb7-4712-9889-bacc1707f5a5",
   "metadata": {},
   "source": [
    "## Part 1"
   ]
  },
  {
   "cell_type": "markdown",
   "id": "0f2ad876-9569-47ff-be9d-d252e32fd9be",
   "metadata": {},
   "source": [
    "Rock-paper-scissor scoring is essential modulo 3 arithmetic"
   ]
  },
  {
   "cell_type": "code",
   "execution_count": 3,
   "id": "d84089ec-9237-4aa1-8bc0-a53bea19e150",
   "metadata": {},
   "outputs": [],
   "source": [
    "shape_nr = {'A': 0, 'B': 1, 'C': 2, 'X': 0, 'Y': 1, 'Z': 2}"
   ]
  },
  {
   "cell_type": "code",
   "execution_count": 25,
   "id": "70e5e29d-2bcc-4369-9eb3-5ef90b53c62b",
   "metadata": {},
   "outputs": [],
   "source": [
    "def shape_score(shape):\n",
    "    return shape + 1"
   ]
  },
  {
   "cell_type": "code",
   "execution_count": 26,
   "id": "f5f8141d-9cc9-449a-968e-2b29bd819855",
   "metadata": {},
   "outputs": [],
   "source": [
    "def outcome_score(opp_shape, my_shape):\n",
    "    return ((my_shape - opp_shape + 1) % 3) * 3"
   ]
  },
  {
   "cell_type": "code",
   "execution_count": 32,
   "id": "fe155490-60b5-43b1-80f2-170d08a993d0",
   "metadata": {},
   "outputs": [],
   "source": [
    "def round_score(opp_shape, my_shape):\n",
    "    return shape_score(my_shape) + outcome_score(opp_shape, my_shape)"
   ]
  },
  {
   "cell_type": "markdown",
   "id": "4ae4a60b-61d9-4732-a579-c15344252021",
   "metadata": {},
   "source": [
    "Example:"
   ]
  },
  {
   "cell_type": "code",
   "execution_count": 36,
   "id": "f7094db9-037c-4928-bfc4-daf1e5f86c7e",
   "metadata": {},
   "outputs": [],
   "source": [
    "def read_rounds(file_name):\n",
    "    with open(file_name) as file:\n",
    "        reader = csv.reader(file, delimiter = ' ')\n",
    "        return [[shape_nr[shape] for shape in row]\n",
    "                for row in reader]"
   ]
  },
  {
   "cell_type": "code",
   "execution_count": 46,
   "id": "248fd360-f110-412e-9f18-cf60ad78d26e",
   "metadata": {
    "tags": []
   },
   "outputs": [],
   "source": [
    "rounds = read_rounds(\"example.txt\")"
   ]
  },
  {
   "cell_type": "code",
   "execution_count": 47,
   "id": "d4f243ec-1554-4316-9eac-f496fb6b7fa7",
   "metadata": {},
   "outputs": [
    {
     "data": {
      "text/plain": [
       "[[0, 1], [1, 0], [2, 2]]"
      ]
     },
     "execution_count": 47,
     "metadata": {},
     "output_type": "execute_result"
    }
   ],
   "source": [
    "rounds"
   ]
  },
  {
   "cell_type": "code",
   "execution_count": 48,
   "id": "8f365342-4198-4256-b24b-b085a0c065bc",
   "metadata": {},
   "outputs": [
    {
     "data": {
      "text/plain": [
       "[8, 1, 6]"
      ]
     },
     "execution_count": 48,
     "metadata": {},
     "output_type": "execute_result"
    }
   ],
   "source": [
    "score = [round_score(*r) for r in rounds]\n",
    "score"
   ]
  },
  {
   "cell_type": "code",
   "execution_count": 49,
   "id": "c523f7af-0d96-4469-809e-348d5cb0e83d",
   "metadata": {},
   "outputs": [
    {
     "data": {
      "text/plain": [
       "15"
      ]
     },
     "execution_count": 49,
     "metadata": {},
     "output_type": "execute_result"
    }
   ],
   "source": [
    "sum(score)"
   ]
  },
  {
   "cell_type": "markdown",
   "id": "0790ada0-0b07-4094-96d7-5912636a74a4",
   "metadata": {},
   "source": [
    "Input:"
   ]
  },
  {
   "cell_type": "code",
   "execution_count": 42,
   "id": "a2c1e38c-5316-4b6d-8bb8-dc9e44964a2f",
   "metadata": {},
   "outputs": [
    {
     "data": {
      "text/plain": [
       "2500"
      ]
     },
     "execution_count": 42,
     "metadata": {},
     "output_type": "execute_result"
    }
   ],
   "source": [
    "rounds = read_rounds(\"input.txt\")\n",
    "len(rounds)"
   ]
  },
  {
   "cell_type": "code",
   "execution_count": 43,
   "id": "efc8cf8c-0521-4169-9388-948cc340a5cb",
   "metadata": {},
   "outputs": [
    {
     "data": {
      "text/plain": [
       "11449"
      ]
     },
     "execution_count": 43,
     "metadata": {},
     "output_type": "execute_result"
    }
   ],
   "source": [
    "score = [round_score(*r) for r in rounds]\n",
    "sum(score)"
   ]
  },
  {
   "cell_type": "markdown",
   "id": "8ce81ab5-1fe1-44da-936f-082be101e9dc",
   "metadata": {},
   "source": [
    "## Part 2"
   ]
  },
  {
   "cell_type": "markdown",
   "id": "27dae7c7-f70f-483a-b47f-2b266f3d33d4",
   "metadata": {},
   "source": [
    "Now column 2 means outcome: X = lose (0), Y = draw (1), Z = win (2). To find our shape, we must solve"
   ]
  },
  {
   "cell_type": "markdown",
   "id": "7cf44934-a04f-4ee8-9442-7b858342ca56",
   "metadata": {},
   "source": [
    "my_shape - opp_shape + 1 % 3 = outcome"
   ]
  },
  {
   "cell_type": "code",
   "execution_count": 53,
   "id": "c4abe1bc-a5f9-4984-afc5-4035deebb16f",
   "metadata": {},
   "outputs": [],
   "source": [
    "def find_shape(opp_shape, outcome):\n",
    "    return ((outcome + opp_shape - 1) % 3) "
   ]
  },
  {
   "cell_type": "markdown",
   "id": "b7e23596-7bba-43b3-9a71-aabcf7765b5e",
   "metadata": {},
   "source": [
    "Example"
   ]
  },
  {
   "cell_type": "code",
   "execution_count": 50,
   "id": "fe09024a-12af-4472-8001-34eda6befc86",
   "metadata": {
    "tags": []
   },
   "outputs": [],
   "source": [
    "rounds = read_rounds(\"example.txt\")"
   ]
  },
  {
   "cell_type": "code",
   "execution_count": 51,
   "id": "0486c809-e0b7-402c-a25a-7cc59af30626",
   "metadata": {},
   "outputs": [
    {
     "data": {
      "text/plain": [
       "[[0, 1], [1, 0], [2, 2]]"
      ]
     },
     "execution_count": 51,
     "metadata": {},
     "output_type": "execute_result"
    }
   ],
   "source": [
    "rounds"
   ]
  },
  {
   "cell_type": "code",
   "execution_count": 54,
   "id": "67691360-cdd9-4dcb-a217-8e8238af6e5e",
   "metadata": {},
   "outputs": [
    {
     "data": {
      "text/plain": [
       "[0, 0, 0]"
      ]
     },
     "execution_count": 54,
     "metadata": {},
     "output_type": "execute_result"
    }
   ],
   "source": [
    "[find_shape(*r) for r in rounds]"
   ]
  },
  {
   "cell_type": "code",
   "execution_count": 55,
   "id": "9da8b4de-028d-44ce-a55c-e5c254f48b53",
   "metadata": {},
   "outputs": [],
   "source": [
    "def new_round_score(opp_shape, outcome):\n",
    "    return round_score(opp_shape, find_shape(opp_shape, outcome))"
   ]
  },
  {
   "cell_type": "code",
   "execution_count": 56,
   "id": "16c2e3d4-6f1f-4ab0-b4bb-535089cd7cba",
   "metadata": {},
   "outputs": [
    {
     "data": {
      "text/plain": [
       "[4, 1, 7]"
      ]
     },
     "execution_count": 56,
     "metadata": {},
     "output_type": "execute_result"
    }
   ],
   "source": [
    "[new_round_score(*r) for r in rounds]"
   ]
  },
  {
   "cell_type": "markdown",
   "id": "0112922c-ad49-40f0-bcbe-3f1eee109204",
   "metadata": {},
   "source": [
    "Input data"
   ]
  },
  {
   "cell_type": "code",
   "execution_count": 57,
   "id": "f75b40ce-45eb-41ef-97e3-6ffa52074eca",
   "metadata": {},
   "outputs": [],
   "source": [
    "rounds = read_rounds(\"input.txt\")"
   ]
  },
  {
   "cell_type": "code",
   "execution_count": 59,
   "id": "263a6dd5-5de1-4bb1-b8b0-71b9848fd714",
   "metadata": {},
   "outputs": [
    {
     "data": {
      "text/plain": [
       "13187"
      ]
     },
     "execution_count": 59,
     "metadata": {},
     "output_type": "execute_result"
    }
   ],
   "source": [
    "sum([new_round_score(*r) for r in rounds])"
   ]
  }
 ],
 "metadata": {
  "kernelspec": {
   "display_name": "Python 3 (ipykernel)",
   "language": "python",
   "name": "python3"
  },
  "language_info": {
   "codemirror_mode": {
    "name": "ipython",
    "version": 3
   },
   "file_extension": ".py",
   "mimetype": "text/x-python",
   "name": "python",
   "nbconvert_exporter": "python",
   "pygments_lexer": "ipython3",
   "version": "3.9.1"
  }
 },
 "nbformat": 4,
 "nbformat_minor": 5
}
